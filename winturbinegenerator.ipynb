{
 "cells": [
  {
   "cell_type": "code",
   "execution_count": null,
   "id": "e47eed12-b649-4a54-814a-b230d65df247",
   "metadata": {},
   "outputs": [
    {
     "name": "stdout",
     "output_type": "stream",
     "text": [
      "22.279809506572597\n"
     ]
    }
   ],
   "source": [
    "import json\n",
    "from random import uniform  # Importa a função para gerar números aleatórios dentro de um intervalo\n",
    "import time\n",
    "from datetime import datetime\n",
    "\n",
    "id = 0  # Inicializa um contador para o identificador dos registros\n",
    "\n",
    "while True:  # Loop infinito para gerar registros continuamente\n",
    "    id += 1  # Incrementa o identificador a cada iteração\n",
    "\n",
    "    dados_pf = uniform(0.7, 1)  # Gera um fator de potência aleatório entre 0.7 e 1\n",
    "    dados_hp = uniform(70, 80)  # Gera uma pressão hidráulica aleatória entre 70 e 80\n",
    "    dados_tp = uniform(20, 25)  # Gera uma temperatura aleatória entre 20 e 25\n",
    "\n",
    "    # Cria um dicionário com os dados coletados, incluindo um timestamp\n",
    "    registro = {\n",
    "        'idtemp': str(id),  # Identificador do registro convertido para string\n",
    "        'powerfactor': str(dados_pf),  # Fator de potência convertido para string\n",
    "        'hydraulicpressure': str(dados_hp),  # Pressão hidráulica convertida para string\n",
    "        'temperature': str(dados_tp),  # Temperatura convertida para string\n",
    "        'timestamp': str(datetime.now())  # Timestamp do momento da coleta\n",
    "    }\n",
    "\n",
    "    # Abre o arquivo JSON no modo de escrita ('w'), sobrescrevendo o conteúdo anterior\n",
    "    with open('C:/Users/usuario/Desktop/airflow/data/data.json', 'w') as fp:\n",
    "        json.dump(registro, fp)  # Salva os dados no arquivo JSON\n",
    "\n",
    "    time.sleep(5000)  # Aguarda 5000 segundos (cerca de 1 hora e 23 minutos) antes de gerar um novo registro\n"
   ]
  },
  {
   "cell_type": "code",
   "execution_count": null,
   "id": "40f9ef45-986f-4830-b0c9-ad00cebdafc1",
   "metadata": {},
   "outputs": [],
   "source": []
  },
  {
   "cell_type": "code",
   "execution_count": null,
   "id": "6d97a305-2730-4bc4-8aaa-6f9ebaf6d0a7",
   "metadata": {},
   "outputs": [],
   "source": []
  }
 ],
 "metadata": {
  "kernelspec": {
   "display_name": "Python 3 (ipykernel)",
   "language": "python",
   "name": "python3"
  },
  "language_info": {
   "codemirror_mode": {
    "name": "ipython",
    "version": 3
   },
   "file_extension": ".py",
   "mimetype": "text/x-python",
   "name": "python",
   "nbconvert_exporter": "python",
   "pygments_lexer": "ipython3",
   "version": "3.9.13"
  }
 },
 "nbformat": 4,
 "nbformat_minor": 5
}
